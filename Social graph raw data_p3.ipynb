{
 "cells": [
  {
   "cell_type": "code",
   "execution_count": 1,
   "metadata": {
    "collapsed": false
   },
   "outputs": [
    {
     "name": "stdout",
     "output_type": "stream",
     "text": [
      "number of papers: 153\n",
      "number of authors: 739\n",
      "0\n"
     ]
    }
   ],
   "source": [
    "import sys\n",
    "\n",
    "#add config file\n",
    "mypath = 'C:/Corpus/MainCorpus/'\n",
    "\n",
    "author_list = open(mypath + 'author_list.txt', 'r+')\n",
    "\n",
    "i = 0\n",
    "k = 0\n",
    "a = 0\n",
    "\n",
    "check_title = False\n",
    "check_authors = False\n",
    "\n",
    "current_authors = []\n",
    "current_title = []\n",
    "authorname_list = []\n",
    "\n",
    "for line in author_list:\n",
    "    if check_title == True:\n",
    "        current_title.append(line)\n",
    "        check_title = False\n",
    "        \n",
    "    if  '?????' in line:\n",
    "        check_authors = False\n",
    "        current_authors = []\n",
    "        current_title = []\n",
    "        i += 1\n",
    "    if check_authors == True:\n",
    "        current_authors.append(line)\n",
    "        if (line not in authorname_list) and ('>>>>>' not in line) and('!!!!!'):\n",
    "            authorname_list.append(line)\n",
    "            a += 1\n",
    "    if '!!!!!' in line:\n",
    "        check_title = True\n",
    "    if ':::::' in line:\n",
    "        check_authors = True\n",
    "author_list.close()\n",
    "print('number of papers:',i)\n",
    "print('number of authors:',a)\n",
    "\n",
    "#assign number to each author\n",
    "\n",
    "ID = {}\n",
    "for e in range(len(authorname_list)):\n",
    "    ID[authorname_list[e]] = e\n",
    "print(ID['Arts,Josje H.E.;\\n'])"
   ]
  },
  {
   "cell_type": "code",
   "execution_count": 2,
   "metadata": {
    "collapsed": false
   },
   "outputs": [
    {
     "name": "stdout",
     "output_type": "stream",
     "text": [
      "38\n",
      "[[   0.    1.    2. ...,  736.  737.  738.]\n",
      " [   1.    0.    1. ...,    0.    0.    0.]\n",
      " [   2.    0.    0. ...,    0.    0.    0.]\n",
      " ..., \n",
      " [ 736.    0.    0. ...,    0.    1.    1.]\n",
      " [ 737.    0.    0. ...,    0.    0.    1.]\n",
      " [ 738.    0.    0. ...,    0.    0.    0.]]\n"
     ]
    }
   ],
   "source": [
    "import sys\n",
    "import itertools\n",
    "import numpy\n",
    "\n",
    "#add config file\n",
    "mypath = 'C:/Corpus/MainCorpus/'\n",
    "\n",
    "author_list = open(mypath + 'author_list.txt', 'r+')\n",
    "\n",
    "social_graph = numpy.zeros((a,a))\n",
    "\n",
    "num_errors = 0\n",
    "check_title = False\n",
    "check_authors = False\n",
    "check_paper = True\n",
    "\n",
    "current_authors = []\n",
    "current_title = []\n",
    "authorname_list = []\n",
    "\n",
    "for line in author_list:\n",
    "    if check_title == True:\n",
    "        current_title.append(line)\n",
    "        check_title = False\n",
    "        \n",
    "    if  '?????' in line:\n",
    "        #get permutations\n",
    "        perm = list(itertools.combinations(current_authors,2))\n",
    "        #get indices\n",
    "        for w in range(len(perm)):\n",
    "            try:\n",
    "                indice1 = ID[perm[w][0]] +1\n",
    "                indice2 = ID[perm[w][1]] +1\n",
    "                #increase matrix count\n",
    "                social_graph[indice1, indice2] += 1\n",
    "            except:\n",
    "                num_errors += 1\n",
    "                pass\n",
    "            \n",
    "        check_paper = False\n",
    "        check_authors = False\n",
    "        current_authors = []\n",
    "        current_title = []\n",
    "        i += 1\n",
    "    if check_authors == True:\n",
    "        current_authors.append(line)\n",
    "        if (line not in authorname_list) and ('>>>>>' not in line):\n",
    "            authorname_list.append(line)\n",
    "\n",
    "    if '!!!!!' in line:\n",
    "        check_title = True\n",
    "    if ':::::' in line:\n",
    "        check_authors = True\n",
    "for b in range(len(social_graph)):\n",
    "    social_graph[b, 0] = b\n",
    "    social_graph[0, b] = b\n",
    "author_list.close()\n",
    "print(num_errors)\n",
    "print(social_graph)"
   ]
  },
  {
   "cell_type": "code",
   "execution_count": 3,
   "metadata": {
    "collapsed": false
   },
   "outputs": [],
   "source": [
    "import xlwt\n",
    "\n",
    "\n",
    "book = xlwt.Workbook(encoding=\"utf-8\")\n",
    "\n",
    "s = book.add_sheet(\"Sheet 1\")\n",
    "for x in range(210):\n",
    "    for y in range(210):\n",
    "        s.write(x,y, social_graph[x, y])\n",
    "        \n",
    "\n",
    "book.save(\"social graph.xls\")"
   ]
  },
  {
   "cell_type": "code",
   "execution_count": null,
   "metadata": {
    "collapsed": false
   },
   "outputs": [],
   "source": []
  },
  {
   "cell_type": "code",
   "execution_count": null,
   "metadata": {
    "collapsed": false
   },
   "outputs": [],
   "source": []
  },
  {
   "cell_type": "code",
   "execution_count": 12,
   "metadata": {
    "collapsed": false
   },
   "outputs": [
    {
     "name": "stdout",
     "output_type": "stream",
     "text": [
      "Highest amount of co-published papers between authors:  4.0\n",
      "51  out of  739  authors co-published. In percentage:  7 %\n"
     ]
    }
   ],
   "source": [
    "max_publisher = 0\n",
    "num = 0\n",
    "for x in range(len(social_graph)):\n",
    "    for y in range(len(social_graph)):\n",
    "        if social_graph[x, y] > max_publisher and (( x != 0) and ( y != 0)):\n",
    "            max_publisher = social_graph[x,y]\n",
    "        if social_graph[x,y] > 1 and (( x != 0) and ( y != 0)):\n",
    "            num += 1\n",
    "print('Highest amount of co-published papers between authors: ',max_publisher)\n",
    "print(num,' out of ', a, ' authors co-published. In percentage: ', round(100*num/a),'%')"
   ]
  },
  {
   "cell_type": "code",
   "execution_count": null,
   "metadata": {
    "collapsed": false
   },
   "outputs": [],
   "source": []
  },
  {
   "cell_type": "code",
   "execution_count": 31,
   "metadata": {
    "collapsed": false,
    "scrolled": true
   },
   "outputs": [
    {
     "name": "stdout",
     "output_type": "stream",
     "text": [
      "['Pabon,Nicolas;\\n', 'Cohen-Hubal,Elaine;\\n', 'El Badawy,Amro;\\n', 'El Badawy,Amro;\\n', 'El Badawy,Amro;\\n', 'Sequeira,Reynold;\\n', 'Sequeira,Reynold;\\n', 'Genaidy,Ash;\\n', 'Praetorius,Antonia;\\n', 'Hohndorf,Lars;\\n', 'El Badawy,Amro M.;\\n', 'Lanphere,Jacob;\\n', 'Zhu,Lizhong;\\n', 'Ting,Yen-Peng;\\n', 'Qi,Jing;\\n', 'Qi,Jing;\\n', 'Zhu,Miao;\\n', 'Li,Fengting;\\n', 'Sasai,Yoshiki;\\n', 'Sasai,Yoshiki;\\n', 'Sasai,Yoshiki;\\n', 'Sasai,Yoshiki;\\n', 'Niwa,Hitoshi;\\n', 'Niwa,Hitoshi;\\n', 'Kadota,Mitsutaka;\\n', 'Field,Jim A.;\\n', 'Field,Jim A.;\\n', 'Sierra-Alvarez,Reyes;\\n', 'Sun,Tianyin;\\n', 'Diepens,N.J.;\\n', 'Diepens,N.J.;\\n', 'Auffan,Melanie;\\n', 'Auffan,Melanie;\\n', 'Auffan,Melanie;\\n', 'Olivi,Luca;\\n', 'Olivi,Luca;\\n', 'Olivi,Luca;\\n', 'Bottero,Jean-Yves;\\n', 'Tiede,Karen;\\n', 'Tiede,Karen;\\n', 'Tiede,Karen;\\n', 'Tiede,Karen;\\n', 'Tiede,Karen;\\n', 'Ivleva,Natalia P.;\\n', 'Niessner,Reinhard;\\n', 'Sabella,Stefania;\\n', 'Rose,Jérôme;\\n', 'Rose,Jérôme;\\n', 'Rose,Jérôme;\\n', 'Lassen,Carsten;\\n']\n",
      "['Gould,Oliver;\\n', 'Gould,Oliver;\\n', 'Sequeira,Reynold;\\n', 'Genaidy,Ash;\\n', 'Gonzalez,L.;\\n', 'Genaidy,Ash;\\n', 'Gonzalez,L.;\\n', 'Gonzalez,L.;\\n', 'Labille,Jerome;\\n', 'Manzo,Sonia;\\n', 'Vona,Andrea;\\n', 'Frenk,Sammy;\\n', 'Zhang,Keke;\\n', 'Callegaro,Sarah;\\n', 'Zhu,Miao;\\n', 'Tan,Magdalene;\\n', 'Tan,Magdalene;\\n', 'Tan,Magdalene;\\n', 'Niwa,Hitoshi;\\n', 'Kadota,Mitsutaka;\\n', 'Wakayama,Teruhiko;\\n', 'Kojima,Koji;\\n', 'Kadota,Mitsutaka;\\n', 'Wakayama,Teruhiko;\\n', 'Wakayama,Teruhiko;\\n', 'Sierra-Alvarez,Reyes;\\n', 'Dwivedi,Amarendra Dhar;\\n', 'Dwivedi,Amarendra Dhar;\\n', 'Bates,Matthew E.;\\n', 'Besseling,E.;\\n', 'van de Meent,D.;\\n', 'Froggett,Stephan J;\\n', 'Olivi,Luca;\\n', 'Tiede,Karen;\\n', 'Froggett,Stephan J;\\n', 'Bottero,Jean-Yves;\\n', 'Tiede,Karen;\\n', 'Tiede,Karen;\\n', 'Froggett,Stephan J;\\n', 'Praetorius,Antonia;\\n', 'Labille,Jerome;\\n', 'Rose,Jérôme;\\n', 'Mouneyrac,Catherine;\\n', 'Chapman,Peter M.;\\n', 'Chapman,Peter M.;\\n', 'Hankin,Steven;\\n', 'Praetorius,Antonia;\\n', 'Labille,Jerome;\\n', 'Mouneyrac,Catherine;\\n', 'Bates,Matthew E.;\\n']\n"
     ]
    }
   ],
   "source": [
    "#write to text-file:\n",
    "import sys\n",
    "\n",
    "#add config file\n",
    "mypath = 'C:/Corpus/MainCorpus/'\n",
    "q = 0\n",
    "\n",
    "threec = 0\n",
    "twoc = 0\n",
    "\n",
    "author_pairs1 = []\n",
    "author_pairs2 = []\n",
    "\n",
    "social_graph_txt = open(mypath + 'social_graph.txt', 'w')\n",
    "for x in range(len(social_graph)):\n",
    "    for y in range(len(social_graph)):\n",
    "        if social_graph[x, y] > 1 and (( x != 0) and ( y != 0)) and (social_graph[x,y] != 4):\n",
    "            q += 1\n",
    "            #Get ID's\n",
    "            for keys in ID:\n",
    "                if social_graph[x , 0] == ID[keys]:\n",
    "                    ID1 = keys\n",
    "                if social_graph[0, y] == ID[keys]:\n",
    "                    ID2 = keys\n",
    "            if social_graph[x, y] == 2 and (( x != 0) and ( y != 0)):\n",
    "                twoc += 1\n",
    "            if social_graph[x, y] == 3 and (( x != 0) and ( y != 0)):\n",
    "                threec += 1\n",
    "            eolr = len(ID1) -2\n",
    "            author_pairs1.append(ID1)\n",
    "            author_pairs2.append(ID2)\n",
    "            social_graph_txt.write(str(q)+'.\\t'+str(social_graph[x, y])+' papers were co-published by '+ID1[:eolr] + ' and '+ ID2)\n",
    "social_graph_txt.write('Number of authors who published 2 papers together:' + str(twoc)+'\\n')\n",
    "social_graph_txt.write('Number of authors who published 3 papers together:' + str(threec)+'\\n')\n",
    "social_graph_txt.close()\n",
    "            "
   ]
  },
  {
   "cell_type": "code",
   "execution_count": null,
   "metadata": {
    "collapsed": false
   },
   "outputs": [],
   "source": [
    "import sys\n",
    "\n",
    "#add config file\n",
    "mypath = 'C:/Corpus/MainCorpus/'\n",
    "\n",
    "author_list = open(mypath + 'author_list.txt', 'r+')\n",
    "\n",
    "i = 0\n",
    "k = 0\n",
    "a = 0\n",
    "\n",
    "check_title = False\n",
    "check_authors = False\n",
    "\n",
    "aut1 = False\n",
    "aut2 = False\n",
    "\n",
    "current_authors = []\n",
    "current_title = []\n",
    "authorname_list = []\n",
    "\n",
    "add_title = []\n",
    "\n",
    "for line in author_list:\n",
    "    if check_title == True:\n",
    "        current_title.append(line)\n",
    "        check_title = False\n",
    "        \n",
    "    if  '?????' in line:\n",
    "        check_authors = False\n",
    "        for v in range(len(author_pairs1)):\n",
    "            for m in range(len(current_authors)):\n",
    "                if author_pairs1[v] in current_authors[m]:\n",
    "                    aut1 = True\n",
    "                if author_pairs2[v] in current_authors[m]:\n",
    "                    aut2 = True\n",
    "        if aut1 == True and auth2 == True:\n",
    "            add_title.append\n",
    "            \n",
    "        aut1 = False\n",
    "        aut2 = False\n",
    "        current_authors = []\n",
    "        current_title = []\n",
    "        i += 1\n",
    "    if check_authors == True:\n",
    "        current_authors.append(line)\n",
    "        if (line not in authorname_list) and ('>>>>>' not in line) and('!!!!!'):\n",
    "            authorname_list.append(line)\n",
    "            a += 1\n",
    "    if '!!!!!' in line:\n",
    "        check_title = True\n",
    "    if ':::::' in line:\n",
    "        check_authors = True\n",
    "author_list.close()"
   ]
  },
  {
   "cell_type": "code",
   "execution_count": 20,
   "metadata": {
    "collapsed": false
   },
   "outputs": [
    {
     "data": {
      "text/plain": [
       "'hello'"
      ]
     },
     "execution_count": 20,
     "metadata": {},
     "output_type": "execute_result"
    }
   ],
   "source": []
  },
  {
   "cell_type": "code",
   "execution_count": null,
   "metadata": {
    "collapsed": true
   },
   "outputs": [],
   "source": [
    "import xlwt\n",
    "\n",
    "\n",
    "book = xlwt.Workbook(encoding=\"utf-8\")\n",
    "\n",
    "s = book.add_sheet(\"Sheet 1\")\n",
    "for x in range(len(social_graph)):\n",
    "    for y in range(len(social_graph)):\n",
    "        s.write(x,y, social_graph[x, y])\n",
    "        \n",
    "\n",
    "book.save(\"social graph.xls\")"
   ]
  }
 ],
 "metadata": {
  "kernelspec": {
   "display_name": "Python 3",
   "language": "python",
   "name": "python3"
  },
  "language_info": {
   "codemirror_mode": {
    "name": "ipython",
    "version": 3
   },
   "file_extension": ".py",
   "mimetype": "text/x-python",
   "name": "python",
   "nbconvert_exporter": "python",
   "pygments_lexer": "ipython3",
   "version": "3.4.4"
  }
 },
 "nbformat": 4,
 "nbformat_minor": 0
}
