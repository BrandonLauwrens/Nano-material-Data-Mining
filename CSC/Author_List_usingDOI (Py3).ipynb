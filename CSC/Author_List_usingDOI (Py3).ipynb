{
 "cells": [
  {
   "cell_type": "code",
   "execution_count": 40,
   "metadata": {
    "collapsed": false
   },
   "outputs": [
    {
     "name": "stdout",
     "output_type": "stream",
     "text": [
      "<Response [200]>\n",
      "Request 200 OK! :D\n",
      "[{'dc:creator': 'Josje H.E., Arts', 'prism:issn': '02732300', 'prism:issueIdentifier': '2', 'authors': {'author': [{'given-name': 'Josje H.E.', '@_fa': 'true', 'surname': 'Arts'}, {'given-name': 'Mackenzie', '@_fa': 'true', 'surname': 'Hadi'}, {'given-name': 'Athena M.', '@_fa': 'true', 'surname': 'Keene'}, {'given-name': 'Reinhard', '@_fa': 'true', 'surname': 'Kreiling'}, {'given-name': 'Delina', '@_fa': 'true', 'surname': 'Lyon'}, {'given-name': 'Monika', '@_fa': 'true', 'surname': 'Maier'}, {'given-name': 'Karin', '@_fa': 'true', 'surname': 'Michel'}, {'given-name': 'Thomas', '@_fa': 'true', 'surname': 'Petry'}, {'given-name': 'Ursula G.', '@_fa': 'true', 'surname': 'Sauer'}, {'given-name': 'David', '@_fa': 'true', 'surname': 'Warheit'}, {'given-name': 'Karin', '@_fa': 'true', 'surname': 'Wiench'}, {'given-name': 'Robert', '@_fa': 'true', 'surname': 'Landsiedel'}]}, 'openArchiveArticle': False, 'prism:teaser': 'The grouping of substances serves to streamline testing for regulatory purposes. General grouping approaches for chemicals have been implemented in, e.g., the EU chemicals regulation. While specific...', 'prism:volume': '70', 'dc:title': 'A critical appraisal of existing concepts for the grouping of nanomaterials', 'openaccessUserLicense': 'http://creativecommons.org/licenses/by/3.0/', 'dc:identifier': 'DOI:10.1016/j.yrtph.2014.07.025', 'eid': '1-s2.0-S0273230014001809', 'prism:publicationName': 'Regulatory Toxicology and Pharmacology', 'openaccess': '1', 'prism:url': 'http://api.elsevier.com/content/article/pii/S0273230014001809', 'prism:coverDate': [{'$': '2014-11-01', '@_fa': 'true'}], '@_fa': 'true', 'prism:doi': '10.1016/j.yrtph.2014.07.025', 'link': [{'@href': 'http://api.elsevier.com/content/article/pii/S0273230014001809', '@_fa': 'true', '@ref': 'self'}, {'@href': 'http://www.sciencedirect.com/science/article/pii/S0273230014001809', '@_fa': 'true', '@ref': 'scidir'}], 'openaccessArticle': True, 'prism:endingPage': '506', 'prism:startingPage': '492', 'prism:coverDisplayDate': 'November 2014', 'pii': 'S0273-2300(14)00180-9'}]\n",
      "done\n",
      "<Response [200]>\n",
      "Request 200 OK! :D\n",
      "[{'error': 'Result set was empty', '@force-array': 'true'}]\n"
     ]
    },
    {
     "ename": "KeyError",
     "evalue": "'dc:title'",
     "output_type": "error",
     "traceback": [
      "\u001b[1;31m---------------------------------------------------------------------------\u001b[0m",
      "\u001b[1;31mKeyError\u001b[0m                                  Traceback (most recent call last)",
      "\u001b[1;32m<ipython-input-40-31697ebb8960>\u001b[0m in \u001b[0;36m<module>\u001b[1;34m()\u001b[0m\n\u001b[0;32m     35\u001b[0m \u001b[1;33m\u001b[0m\u001b[0m\n\u001b[0;32m     36\u001b[0m             \u001b[1;32mfor\u001b[0m \u001b[0mresult\u001b[0m \u001b[1;32min\u001b[0m \u001b[0mresults\u001b[0m\u001b[1;33m:\u001b[0m\u001b[1;33m\u001b[0m\u001b[0m\n\u001b[1;32m---> 37\u001b[1;33m                 \u001b[0mauthor_list_txt\u001b[0m\u001b[1;33m.\u001b[0m\u001b[0mwrite\u001b[0m\u001b[1;33m(\u001b[0m\u001b[1;34m'Article:\\n'\u001b[0m\u001b[1;33m+\u001b[0m \u001b[0mresult\u001b[0m\u001b[1;33m[\u001b[0m\u001b[1;34m'dc:title'\u001b[0m\u001b[1;33m]\u001b[0m \u001b[1;33m+\u001b[0m \u001b[1;34m'\\n'\u001b[0m\u001b[1;33m)\u001b[0m\u001b[1;33m\u001b[0m\u001b[0m\n\u001b[0m\u001b[0;32m     38\u001b[0m                 \u001b[1;31m#print('Title: ' + result['dc:title'])\u001b[0m\u001b[1;33m\u001b[0m\u001b[1;33m\u001b[0m\u001b[0m\n\u001b[0;32m     39\u001b[0m                 \u001b[1;31m#print('Author: ' + result['dc:creator'])\u001b[0m\u001b[1;33m\u001b[0m\u001b[1;33m\u001b[0m\u001b[0m\n",
      "\u001b[1;31mKeyError\u001b[0m: 'dc:title'"
     ]
    }
   ],
   "source": [
    "import requests\n",
    "import json\n",
    "import sys\n",
    "\n",
    "mypath = 'C:/Corpus/MainCorpus/'\n",
    "doi_list = open(mypath + 'doi_list_1.txt', 'r')\n",
    "with open(mypath+'doi_list_1.txt') as f:\n",
    "    for line in f:\n",
    "        doi_cur = line\n",
    "\n",
    "        headers = {\n",
    "                'Accept': 'application/json',\n",
    "                'X-ELS-APIKey': 'd5a9997b99636ca8510540b47b0b04fb',\n",
    "            }\n",
    "\n",
    "        params = {\n",
    "            'query': 'doi('+doi_cur+')',\n",
    "        }\n",
    "\n",
    "        url = 'http://api.elsevier.com/content/search/scidir'\n",
    "        doi_url = 'http://api.elsevier.com/content/article/doi/'\n",
    "        doi_current= '10.1038/NNANO.2011.163'\n",
    "\n",
    "        r = requests.get(url, headers=headers, params=params)\n",
    "        print(r)\n",
    "        if r.status_code == 200:\n",
    "            print('Request 200 OK! :D')   \n",
    "\n",
    "            results = r.json()\n",
    "            results = results['search-results']['entry']\n",
    "            print(results)\n",
    "            mypath = 'C:/Corpus/'\n",
    "\n",
    "            author_list_txt = open(mypath+'author_list.txt', 'a', encoding='utf-8')\n",
    "\n",
    "            for result in results:\n",
    "                author_list_txt.write('Article:\\n'+ result['dc:title'] + '\\n')\n",
    "                #print('Title: ' + result['dc:title'])\n",
    "                #print('Author: ' + result['dc:creator'])\n",
    "\n",
    "                author_list = []\n",
    "\n",
    "                if 'authors' in result:\n",
    "                    authors = result['authors']['author']\n",
    "                    #authors = []\n",
    "\n",
    "                    #if('authors' in result):\n",
    "                    for item in authors:\n",
    "                        name = \"\"\n",
    "                        surname = \"\"\n",
    "\n",
    "                        if 'surname' in item:\n",
    "                            surname = item['surname']\n",
    "                        if 'given-name' in item:\n",
    "                            name = \", \" + item['given-name']\n",
    "                        a = surname + name\n",
    "\n",
    "                        author_list.append(a)\n",
    "\n",
    "                    author_list_txt.write('Authors:\\n')\n",
    "                    for a in author_list:\n",
    "                        author_list_txt.write(a + '\\n')\n",
    "                    author_list_txt.write('\\n---------------------------------------\\n')        \n",
    "\n",
    "                    ##print('Url: ' + result['prism:url'])\n",
    "                    #doi_results = requests.get(doi_url + result['prism:doi'], headers=headers)\n",
    "                    #doi_results = doi_results.json()\n",
    "                    #doi_results = doi_results['full-text-retrieval-response']\n",
    "                    ##print result  \n",
    "\n",
    "            author_list_txt.close()\n",
    "        print('done')"
   ]
  },
  {
   "cell_type": "code",
   "execution_count": null,
   "metadata": {
    "collapsed": true
   },
   "outputs": [],
   "source": []
  },
  {
   "cell_type": "code",
   "execution_count": null,
   "metadata": {
    "collapsed": true
   },
   "outputs": [],
   "source": []
  },
  {
   "cell_type": "code",
   "execution_count": null,
   "metadata": {
    "collapsed": true
   },
   "outputs": [],
   "source": []
  }
 ],
 "metadata": {
  "kernelspec": {
   "display_name": "Python 3",
   "language": "python",
   "name": "python3"
  },
  "language_info": {
   "codemirror_mode": {
    "name": "ipython",
    "version": 3
   },
   "file_extension": ".py",
   "mimetype": "text/x-python",
   "name": "python",
   "nbconvert_exporter": "python",
   "pygments_lexer": "ipython3",
   "version": "3.4.4"
  }
 },
 "nbformat": 4,
 "nbformat_minor": 0
}
