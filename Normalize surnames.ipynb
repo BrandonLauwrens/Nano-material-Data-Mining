{
 "cells": [
  {
   "cell_type": "code",
   "execution_count": 4,
   "metadata": {
    "collapsed": false
   },
   "outputs": [
    {
     "name": "stdout",
     "output_type": "stream",
     "text": [
      "number of papers: 153\n",
      "721\n",
      "number of authors: 721\n"
     ]
    }
   ],
   "source": [
    "#Create list of all author names\n",
    "import sys\n",
    "import configparser\n",
    "\n",
    "config = configparser.ConfigParser()\n",
    "config.read('config.ini')\n",
    "\n",
    "corpus_directory = config.get('section_directory', 'corpus_directory')\n",
    "\n",
    "mypath = corpus_directory\n",
    "\n",
    "normalized_author_list = open(mypath + 'normalized_author_list.txt', 'r+')\n",
    "author_sur_list = open(mypath + 'author_sur_list.txt', 'w')\n",
    "\n",
    "i = 0\n",
    "k = 0\n",
    "a = 0\n",
    "\n",
    "check_title = False\n",
    "check_authors = False\n",
    "found_name = False\n",
    "\n",
    "current_authors = []\n",
    "current_title = []\n",
    "authorname_list = []\n",
    "listed_names = []\n",
    "\n",
    "i = 0\n",
    "k = 0\n",
    "a = 0\n",
    "s = 0\n",
    "\n",
    "check_title = False\n",
    "check_authors = False\n",
    "\n",
    "current_authors = []\n",
    "current_title = []\n",
    "authorname_list = []\n",
    "\n",
    "for line in normalized_author_list:\n",
    "    if check_title == True:\n",
    "        current_title.append(line)\n",
    "        check_title = False\n",
    "        \n",
    "    if  '?????' in line:\n",
    "        check_authors = False\n",
    "        for p in range(len(current_authors)):\n",
    "            for m in range(len(listed_names)):\n",
    "                if current_authors[p] in listed_names[m]:\n",
    "                    found_name = True\n",
    "            if found_name == False and ('>>>>>' not in current_authors[p] ) and ('!!!!!' not in current_authors[p]) and (':::::' not in current_authors[p]):\n",
    "                listed_names.append(current_authors[p])\n",
    "                author_sur_list.write(current_authors[p])\n",
    "                s += 1\n",
    "            found_name = False\n",
    "                \n",
    "        current_authors = []\n",
    "        current_title = []\n",
    "        i += 1\n",
    "    if check_authors == True:\n",
    "        current_authors.append(line)\n",
    "        if (line not in authorname_list) and ('>>>>>' not in line) and ('!!!!!' not in line) and (':::::' not in line):\n",
    "            authorname_list.append(line)\n",
    "            a += 1\n",
    "    if '!!!!!' in line:\n",
    "        check_title = True\n",
    "    if ':::::' in line:\n",
    "        check_authors = True\n",
    "                \n",
    "\n",
    "print('number of papers:',i)\n",
    "print(s)\n",
    "print('number of authors:',a)\n",
    "\n",
    "author_sur_list.close()\n",
    "normalized_author_list.close()"
   ]
  },
  {
   "cell_type": "code",
   "execution_count": 5,
   "metadata": {
    "collapsed": false
   },
   "outputs": [
    {
     "name": "stdout",
     "output_type": "stream",
     "text": [
      "Chen,J\n",
      "Choi,J\n",
      "2\n",
      "719\n"
     ]
    }
   ],
   "source": [
    "#Check if duplicate surnames exist in list\n",
    "import sys\n",
    "import configparser\n",
    "\n",
    "config = configparser.ConfigParser()\n",
    "config.read('config.ini')\n",
    "\n",
    "corpus_directory = config.get('section_directory', 'corpus_directory')\n",
    "\n",
    "mypath = corpus_directory\n",
    "\n",
    "author_sur_list = open(mypath + 'author_sur_list.txt', 'r+')\n",
    "\n",
    "\n",
    "checked_surnames = []\n",
    "found_sur = False\n",
    "d = 0\n",
    "for line in author_sur_list:\n",
    "    pos_comma = line.index(',') + 2\n",
    "    current_surname = line[:pos_comma]\n",
    "    for k in range(len(checked_surnames)):\n",
    "        if current_surname == checked_surnames[k]:\n",
    "            found_sur = True\n",
    "            d += 1\n",
    "            print(current_surname)\n",
    "    if found_sur == False:\n",
    "        checked_surnames.append(current_surname)\n",
    "        \n",
    "    found_sur = False\n",
    "print(d)\n",
    "print(len(checked_surnames))\n",
    "author_sur_list.close()\n"
   ]
  },
  {
   "cell_type": "code",
   "execution_count": null,
   "metadata": {
    "collapsed": false
   },
   "outputs": [],
   "source": []
  },
  {
   "cell_type": "code",
   "execution_count": null,
   "metadata": {
    "collapsed": true
   },
   "outputs": [],
   "source": [
    "\n"
   ]
  }
 ],
 "metadata": {
  "kernelspec": {
   "display_name": "Python 3",
   "language": "python",
   "name": "python3"
  },
  "language_info": {
   "codemirror_mode": {
    "name": "ipython",
    "version": 3
   },
   "file_extension": ".py",
   "mimetype": "text/x-python",
   "name": "python",
   "nbconvert_exporter": "python",
   "pygments_lexer": "ipython3",
   "version": "3.4.4"
  }
 },
 "nbformat": 4,
 "nbformat_minor": 0
}
