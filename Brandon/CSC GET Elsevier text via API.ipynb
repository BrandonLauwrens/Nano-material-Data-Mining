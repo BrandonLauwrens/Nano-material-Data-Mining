{
 "cells": [
  {
   "cell_type": "code",
   "execution_count": 9,
   "metadata": {
    "collapsed": false
   },
   "outputs": [
    {
     "name": "stdout",
     "output_type": "stream",
     "text": [
      "Request 200 OK! :D\n",
      "------------------------\n",
      "Title: Évolution de la prise en charge des troubles minéraux et osseux des patients hémodialysés en France entre 2008 et 2012 : Observatoire national du métabolisme minéral et osseux\n",
      "Author: Solenne, Pelletier\n",
      "Url: http://api.elsevier.com/content/article/pii/S1769725515006902\n",
      "{u'xocs:doc': {u'xocs:meta': {u'xocs:open-access': {u'xocs:oa-article-status': {u'@is-open-archive': u'0', u'@is-open-access': u'0'}}, u'xocs:available-online-date': {u'$': u'2016-01-25', u'@yyyymmdd': u'20160125'}}}}\n"
     ]
    },
    {
     "ename": "AttributeError",
     "evalue": "'_io.TextIOWrapper' object has no attribute 'append'",
     "output_type": "error",
     "traceback": [
      "\u001b[1;31m---------------------------------------------------------------------------\u001b[0m",
      "\u001b[1;31mAttributeError\u001b[0m                            Traceback (most recent call last)",
      "\u001b[1;32m<ipython-input-9-0a3cf84b9d47>\u001b[0m in \u001b[0;36m<module>\u001b[1;34m()\u001b[0m\n\u001b[0;32m     34\u001b[0m         \u001b[0mdoi_results\u001b[0m \u001b[1;33m=\u001b[0m \u001b[0mdoi_results\u001b[0m\u001b[1;33m[\u001b[0m\u001b[1;34m'full-text-retrieval-response'\u001b[0m\u001b[1;33m]\u001b[0m\u001b[1;33m\u001b[0m\u001b[0m\n\u001b[0;32m     35\u001b[0m         \u001b[1;32mprint\u001b[0m\u001b[1;33m(\u001b[0m\u001b[0mdoi_results\u001b[0m\u001b[1;33m[\u001b[0m\u001b[1;34m'originalText'\u001b[0m\u001b[1;33m]\u001b[0m\u001b[1;33m)\u001b[0m\u001b[1;33m\u001b[0m\u001b[0m\n\u001b[1;32m---> 36\u001b[1;33m         \u001b[1;32mwith\u001b[0m \u001b[0mio\u001b[0m\u001b[1;33m.\u001b[0m\u001b[0mopen\u001b[0m\u001b[1;33m(\u001b[0m\u001b[1;34m'data.txt'\u001b[0m\u001b[1;33m,\u001b[0m \u001b[1;34m'w'\u001b[0m\u001b[1;33m,\u001b[0m \u001b[0mencoding\u001b[0m\u001b[1;33m=\u001b[0m\u001b[1;34m'utf-8'\u001b[0m\u001b[1;33m)\u001b[0m \u001b[1;32mas\u001b[0m \u001b[0mf\u001b[0m\u001b[1;33m:\u001b[0m \u001b[0mf\u001b[0m\u001b[1;33m.\u001b[0m\u001b[0mappend\u001b[0m\u001b[1;33m(\u001b[0m\u001b[0municode\u001b[0m\u001b[1;33m(\u001b[0m\u001b[0mjson\u001b[0m\u001b[1;33m.\u001b[0m\u001b[0mdumps\u001b[0m\u001b[1;33m(\u001b[0m\u001b[0mdoi_results\u001b[0m\u001b[1;33m,\u001b[0m \u001b[0mensure_ascii\u001b[0m\u001b[1;33m=\u001b[0m\u001b[0mFalse\u001b[0m\u001b[1;33m)\u001b[0m\u001b[1;33m)\u001b[0m\u001b[1;33m)\u001b[0m\u001b[1;33m\u001b[0m\u001b[0m\n\u001b[0m\u001b[0;32m     37\u001b[0m \u001b[1;33m\u001b[0m\u001b[0m\n\u001b[0;32m     38\u001b[0m \u001b[1;33m\u001b[0m\u001b[0m\n",
      "\u001b[1;31mAttributeError\u001b[0m: '_io.TextIOWrapper' object has no attribute 'append'"
     ]
    }
   ],
   "source": [
    "import requests\n",
    "import json\n",
    "import io\n",
    "\n",
    "headers = {\n",
    "        'Accept': 'application/json',\n",
    "        'X-ELS-APIKey': 'd5a9997b99636ca8510540b47b0b04fb',\n",
    "    }\n",
    "\n",
    "params = {\n",
    "    'query': 'photo',\n",
    "}\n",
    "\n",
    "url = 'http://api.elsevier.com/content/search/scidir'\n",
    "\n",
    "r = requests.get(url, headers=headers, params=params)\n",
    "doi_url = 'http://api.elsevier.com/content/article/doi/'\n",
    "\n",
    "if r.status_code == 200:\n",
    "    print('Request 200 OK! :D')\n",
    "    \n",
    "    results = r.json()\n",
    "    results = results['search-results']['entry']\n",
    "    \n",
    "    for result in results:\n",
    "        print('------------------------') \n",
    "        print('Title: ' + result['dc:title'])\n",
    "        print('Author: ' + result['dc:creator'])\n",
    "        print('Url: ' + result['prism:url'])\n",
    "        \n",
    "        \n",
    "        doi_results = requests.get(doi_url + result['prism:doi'], headers=headers)\n",
    "        doi_results = doi_results.json()\n",
    "        doi_results = doi_results['full-text-retrieval-response']\n",
    "        print(doi_results['originalText'])\n",
    "        with io.open('data.txt', 'w', encoding='utf-8') as f: f.write(unicode(json.dumps(doi_results, ensure_ascii=False)))\n",
    "\n",
    "    \n",
    "if r.status_code != 200:  \n",
    "    print('Request Code ' + str(r.status_code) + ' : ' + str(r.json()['service-error']['status']['statusText']))\n"
   ]
  },
  {
   "cell_type": "code",
   "execution_count": null,
   "metadata": {
    "collapsed": true
   },
   "outputs": [],
   "source": []
  },
  {
   "cell_type": "code",
   "execution_count": null,
   "metadata": {
    "collapsed": true
   },
   "outputs": [],
   "source": []
  }
 ],
 "metadata": {
  "kernelspec": {
   "display_name": "Python 2",
   "language": "python",
   "name": "python2"
  },
  "language_info": {
   "codemirror_mode": {
    "name": "ipython",
    "version": 2
   },
   "file_extension": ".py",
   "mimetype": "text/x-python",
   "name": "python",
   "nbconvert_exporter": "python",
   "pygments_lexer": "ipython2",
   "version": "2.7.11"
  }
 },
 "nbformat": 4,
 "nbformat_minor": 0
}
