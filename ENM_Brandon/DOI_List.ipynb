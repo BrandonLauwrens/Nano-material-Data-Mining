{
 "cells": [
  {
   "cell_type": "code",
   "execution_count": 24,
   "metadata": {
    "collapsed": false
   },
   "outputs": [],
   "source": [
    "from os import listdir\n",
    "from os.path import isfile, join\n",
    "import os\n",
    "import re\n",
    "\n",
    "mypath = 'C:/Corpus/'\n",
    "onlyfiles = [f for f in listdir(mypath) if isfile(join(mypath, f))]\n",
    "\n",
    "doi_list = open(mypath + 'doi_list.txt', 'w')\n",
    "\n",
    "for item in onlyfiles:\n",
    "    filename, file_extension = os.path.splitext(item)\n",
    "    \n",
    "    if(file_extension == '.txt'):\n",
    "        with file(mypath + item) as f:\n",
    "            s = f.read()\n",
    "            m = re.search('doi:', s)\n",
    "            \n",
    "            if(m is None):\n",
    "                m = re.search('http://dx.doi.org/', s)\n",
    "    \n",
    "            if(m is not None):\n",
    "                pos = m.span()\n",
    "                doi = s[ (pos[1]) : (pos[1]) + 18]\n",
    "                \n",
    "                doi_list.write(doi + '\\n')  \n",
    "\n",
    "doi_list.close()\n",
    "                \n",
    "                \n",
    "                \n",
    "                    "
   ]
  },
  {
   "cell_type": "code",
   "execution_count": null,
   "metadata": {
    "collapsed": true
   },
   "outputs": [],
   "source": []
  },
  {
   "cell_type": "code",
   "execution_count": null,
   "metadata": {
    "collapsed": true
   },
   "outputs": [],
   "source": []
  }
 ],
 "metadata": {
  "kernelspec": {
   "display_name": "Python 2",
   "language": "python",
   "name": "python2"
  },
  "language_info": {
   "codemirror_mode": {
    "name": "ipython",
    "version": 2
   },
   "file_extension": ".py",
   "mimetype": "text/x-python",
   "name": "python",
   "nbconvert_exporter": "python",
   "pygments_lexer": "ipython2",
   "version": "2.7.11"
  }
 },
 "nbformat": 4,
 "nbformat_minor": 0
}
